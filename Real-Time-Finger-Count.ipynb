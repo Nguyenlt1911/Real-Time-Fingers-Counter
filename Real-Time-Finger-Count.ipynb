{
 "cells": [
  {
   "cell_type": "code",
   "execution_count": 1,
   "id": "0b1c0519",
   "metadata": {},
   "outputs": [],
   "source": [
    "import cv2\n",
    "import numpy as np\n",
    "from sklearn.metrics import pairwise"
   ]
  },
  {
   "cell_type": "code",
   "execution_count": 2,
   "id": "6aa119b1",
   "metadata": {},
   "outputs": [],
   "source": [
    "background = None\n",
    "accumulated_weight = 0.5\n",
    "roi_top = 20\n",
    "roi_bottom = 300\n",
    "roi_right = 300\n",
    "roi_left = 600"
   ]
  },
  {
   "cell_type": "code",
   "execution_count": 3,
   "id": "f7f3f23d",
   "metadata": {},
   "outputs": [],
   "source": [
    "def calc_accum_avg(frame, accumulated_weight):\n",
    "    global background\n",
    "    \n",
    "    if background is None:\n",
    "        background = frame.copy().astype('float') #copy frame when background is None\n",
    "        return None\n",
    "    \n",
    "    cv2.accumulateWeighted(frame,background,accumulated_weight) #when bgr is not None\n",
    "    "
   ]
  },
  {
   "cell_type": "code",
   "execution_count": 4,
   "id": "63383c63",
   "metadata": {},
   "outputs": [],
   "source": [
    "def segment(frame, threshold_min = 25):\n",
    "    diff = cv2.absdiff(background.astype('uint8'),frame)\n",
    "    ret, thresholded = cv2.threshold(diff,threshold_min,255,cv2.THRESH_BINARY)\n",
    "    contours, hietachy = cv2.findContours(thresholded.copy(),cv2.RETR_EXTERNAL,cv2.CHAIN_APPROX_SIMPLE)\n",
    "\n",
    "    \n",
    "    if len(contours) == 0:\n",
    "        return None\n",
    "    else:\n",
    "        #assume the largest external contour in roi is the hand\n",
    "        hand_segment = max(contours, key = cv2.contourArea)\n",
    "        \n",
    "        return(thresholded, hand_segment)\n",
    "    \n",
    "    "
   ]
  },
  {
   "cell_type": "code",
   "execution_count": 5,
   "id": "c18362f9",
   "metadata": {},
   "outputs": [],
   "source": [
    "def count_fingers(thresholded, hand_segment):\n",
    "    conv_hull = cv2.convexHull(hand_segment)\n",
    "    \n",
    "    \n",
    "    top = tuple(conv_hull[conv_hull[:,:,1].argmin()][0])\n",
    "    bottom = tuple(conv_hull[conv_hull[:,:,1].argmax()][0])           \n",
    "    left = tuple(conv_hull[conv_hull[:,:,0].argmin()][0])\n",
    "    right = tuple(conv_hull[conv_hull[:,:,0].argmax()][0])\n",
    "                  \n",
    "    cX = (left[0] + right[0])//2\n",
    "    cY = (top[1] + bottom[1])//2\n",
    "                  \n",
    "    distance = pairwise.euclidean_distances([(cX,cY)], Y = [left,right,top,bottom])[0]\n",
    "    max_distance = distance.max()\n",
    "    radius = int(0.7*max_distance)\n",
    "    circumfrence = 2*np.pi*radius\n",
    "    circular_roi = np.zeros_like(thresholded, dtype='uint8')\n",
    "    cv2.circle(circular_roi,(cX,cY),radius,255,10)\n",
    "    circular_roi= cv2.bitwise_and(thresholded,thresholded,mask = circular_roi)\n",
    "    contours,hierachy = cv2.findContours(circular_roi.copy(),cv2.RETR_EXTERNAL,cv2.CHAIN_APPROX_NONE)\n",
    "    \n",
    "    count = 0\n",
    "    for contour in contours:\n",
    "        (x,y,w,h) = cv2.boundingRect(contour)\n",
    "        out_of_wrist = 1.25*cY > (y+h)\n",
    "        limit_points = ((circumfrence*0.25) > contour.shape[0])\n",
    "        \n",
    "        if out_of_wrist and limit_points:\n",
    "            count +=1\n",
    "    return count\n",
    "    "
   ]
  },
  {
   "cell_type": "code",
   "execution_count": 6,
   "id": "f8abc132",
   "metadata": {},
   "outputs": [],
   "source": [
    "cam = cv2.VideoCapture(0)\n",
    "num_frames =0\n",
    "\n",
    "while True:\n",
    "    ret, frame = cam.read()\n",
    "    frame_copy = frame.copy()\n",
    "    roi = frame[roi_top:roi_bottom, roi_right:roi_left]\n",
    "    gray = cv2.cvtColor(roi,cv2.COLOR_BGR2GRAY)\n",
    "    gary = cv2.GaussianBlur(gray,(7,7),0)\n",
    "    \n",
    "    if num_frames < 60:\n",
    "        calc_accum_avg(gray, accumulated_weight)\n",
    "        if num_frames <=59:\n",
    "            cv2.putText(frame_copy,'Wait, Getting Background',(200,300),cv2.FONT_HERSHEY_COMPLEX,1,(0,0,255),2)\n",
    "            cv2.imshow('Finger Count', frame_copy)\n",
    "    else:\n",
    "        hand = segment(gray)\n",
    "        if hand is not None:\n",
    "            thresholded, hand_segment = hand\n",
    "            cv2.drawContours(frame_copy,[hand_segment + (roi_right,roi_top)],-1,(244,0,0),5)\n",
    "            fingers = count_fingers(thresholded, hand_segment)\n",
    "            cv2.putText(frame_copy,str(fingers),(70,50), cv2.FONT_HERSHEY_SCRIPT_SIMPLEX,1,(0,0,255),2)\n",
    "            cv2.imshow('Thresholded',thresholded)\n",
    "    cv2.rectangle(frame_copy,(roi_left,roi_top),(roi_right,roi_bottom),(0,0,255),5)\n",
    "    num_frames += 1\n",
    "    cv2.imshow('Finger Count', frame_copy)\n",
    "    k = cv2.waitKey(1) & 0xFF\n",
    "    if k== 27:\n",
    "        break\n",
    "        \n",
    "cam.release()\n",
    "cv2.destroyAllWindows()\n",
    "\n",
    "        "
   ]
  }
 ],
 "metadata": {
  "kernelspec": {
   "display_name": "Python 3 (ipykernel)",
   "language": "python",
   "name": "python3"
  },
  "language_info": {
   "codemirror_mode": {
    "name": "ipython",
    "version": 3
   },
   "file_extension": ".py",
   "mimetype": "text/x-python",
   "name": "python",
   "nbconvert_exporter": "python",
   "pygments_lexer": "ipython3",
   "version": "3.10.9"
  }
 },
 "nbformat": 4,
 "nbformat_minor": 5
}
